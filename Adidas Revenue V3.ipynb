{
 "cells": [
  {
   "cell_type": "code",
   "execution_count": 1,
   "id": "43b59ace",
   "metadata": {},
   "outputs": [],
   "source": [
    "import seaborn as sns\n",
    "import pandas as pd\n",
    "%matplotlib inline\n",
    "import matplotlib.pyplot as plt\n",
    "import numpy as np"
   ]
  },
  {
   "cell_type": "code",
   "execution_count": 2,
   "id": "c9bfc68d",
   "metadata": {},
   "outputs": [],
   "source": [
    "df = pd.read_csv('/users/lauragallo/Desktop/DATA/RevenueAdidas.csv')"
   ]
  },
  {
   "cell_type": "code",
   "execution_count": 3,
   "id": "b0bcd7e2",
   "metadata": {},
   "outputs": [
    {
     "data": {
      "text/html": [
       "<div>\n",
       "<style scoped>\n",
       "    .dataframe tbody tr th:only-of-type {\n",
       "        vertical-align: middle;\n",
       "    }\n",
       "\n",
       "    .dataframe tbody tr th {\n",
       "        vertical-align: top;\n",
       "    }\n",
       "\n",
       "    .dataframe thead th {\n",
       "        text-align: right;\n",
       "    }\n",
       "</style>\n",
       "<table border=\"1\" class=\"dataframe\">\n",
       "  <thead>\n",
       "    <tr style=\"text-align: right;\">\n",
       "      <th></th>\n",
       "      <th>Date</th>\n",
       "      <th>Adidas Revenue</th>\n",
       "      <th>Adidas Europe GDP</th>\n",
       "      <th>Adidas China GDP</th>\n",
       "      <th>Adidas Price index</th>\n",
       "      <th>Nike Revenue</th>\n",
       "    </tr>\n",
       "  </thead>\n",
       "  <tbody>\n",
       "    <tr>\n",
       "      <th>0</th>\n",
       "      <td>2000 Q1</td>\n",
       "      <td>1517</td>\n",
       "      <td>1728.2440</td>\n",
       "      <td>257.65</td>\n",
       "      <td>246.5</td>\n",
       "      <td>2161.6</td>\n",
       "    </tr>\n",
       "    <tr>\n",
       "      <th>1</th>\n",
       "      <td>2000 Q2</td>\n",
       "      <td>1248</td>\n",
       "      <td>1749.6000</td>\n",
       "      <td>290.44</td>\n",
       "      <td>326.4</td>\n",
       "      <td>2272.7</td>\n",
       "    </tr>\n",
       "    <tr>\n",
       "      <th>2</th>\n",
       "      <td>2000</td>\n",
       "      <td>1677</td>\n",
       "      <td>1769.2586</td>\n",
       "      <td>310.55</td>\n",
       "      <td>322.5</td>\n",
       "      <td>2636.7</td>\n",
       "    </tr>\n",
       "    <tr>\n",
       "      <th>3</th>\n",
       "      <td>2000 Q4</td>\n",
       "      <td>1393</td>\n",
       "      <td>1789.2533</td>\n",
       "      <td>352.70</td>\n",
       "      <td>321.0</td>\n",
       "      <td>2198.7</td>\n",
       "    </tr>\n",
       "    <tr>\n",
       "      <th>4</th>\n",
       "      <td>2001 Q1</td>\n",
       "      <td>1558</td>\n",
       "      <td>1819.1398</td>\n",
       "      <td>290.97</td>\n",
       "      <td>329.4</td>\n",
       "      <td>2170.1</td>\n",
       "    </tr>\n",
       "    <tr>\n",
       "      <th>5</th>\n",
       "      <td>2001 Q2</td>\n",
       "      <td>1368</td>\n",
       "      <td>1833.7128</td>\n",
       "      <td>322.92</td>\n",
       "      <td>329.8</td>\n",
       "      <td>2483.3</td>\n",
       "    </tr>\n",
       "    <tr>\n",
       "      <th>6</th>\n",
       "      <td>2001</td>\n",
       "      <td>1790</td>\n",
       "      <td>1845.8787</td>\n",
       "      <td>342.32</td>\n",
       "      <td>313.3</td>\n",
       "      <td>2613.7</td>\n",
       "    </tr>\n",
       "    <tr>\n",
       "      <th>7</th>\n",
       "      <td>2001 Q4</td>\n",
       "      <td>1396</td>\n",
       "      <td>1861.9357</td>\n",
       "      <td>383.20</td>\n",
       "      <td>302.1</td>\n",
       "      <td>2336.8</td>\n",
       "    </tr>\n",
       "    <tr>\n",
       "      <th>8</th>\n",
       "      <td>2002 Q1</td>\n",
       "      <td>1638</td>\n",
       "      <td>1878.7827</td>\n",
       "      <td>317.67</td>\n",
       "      <td>296.5</td>\n",
       "      <td>2260.3</td>\n",
       "    </tr>\n",
       "    <tr>\n",
       "      <th>9</th>\n",
       "      <td>2002 Q2</td>\n",
       "      <td>1507</td>\n",
       "      <td>1893.8006</td>\n",
       "      <td>352.72</td>\n",
       "      <td>301.0</td>\n",
       "      <td>2682.2</td>\n",
       "    </tr>\n",
       "    <tr>\n",
       "      <th>10</th>\n",
       "      <td>2002</td>\n",
       "      <td>1868</td>\n",
       "      <td>1914.8373</td>\n",
       "      <td>377.63</td>\n",
       "      <td>298.9</td>\n",
       "      <td>2796.3</td>\n",
       "    </tr>\n",
       "    <tr>\n",
       "      <th>11</th>\n",
       "      <td>2002 Q4</td>\n",
       "      <td>1510</td>\n",
       "      <td>1927.3414</td>\n",
       "      <td>422.48</td>\n",
       "      <td>292.2</td>\n",
       "      <td>2514.7</td>\n",
       "    </tr>\n",
       "  </tbody>\n",
       "</table>\n",
       "</div>"
      ],
      "text/plain": [
       "       Date  Adidas Revenue  Adidas Europe GDP  Adidas China GDP  \\\n",
       "0   2000 Q1            1517          1728.2440            257.65   \n",
       "1   2000 Q2            1248          1749.6000            290.44   \n",
       "2      2000            1677          1769.2586            310.55   \n",
       "3   2000 Q4            1393          1789.2533            352.70   \n",
       "4   2001 Q1            1558          1819.1398            290.97   \n",
       "5   2001 Q2            1368          1833.7128            322.92   \n",
       "6      2001            1790          1845.8787            342.32   \n",
       "7   2001 Q4            1396          1861.9357            383.20   \n",
       "8   2002 Q1            1638          1878.7827            317.67   \n",
       "9   2002 Q2            1507          1893.8006            352.72   \n",
       "10     2002            1868          1914.8373            377.63   \n",
       "11  2002 Q4            1510          1927.3414            422.48   \n",
       "\n",
       "    Adidas Price index  Nike Revenue  \n",
       "0                246.5        2161.6  \n",
       "1                326.4        2272.7  \n",
       "2                322.5        2636.7  \n",
       "3                321.0        2198.7  \n",
       "4                329.4        2170.1  \n",
       "5                329.8        2483.3  \n",
       "6                313.3        2613.7  \n",
       "7                302.1        2336.8  \n",
       "8                296.5        2260.3  \n",
       "9                301.0        2682.2  \n",
       "10               298.9        2796.3  \n",
       "11               292.2        2514.7  "
      ]
     },
     "execution_count": 3,
     "metadata": {},
     "output_type": "execute_result"
    }
   ],
   "source": [
    "df.head(12)"
   ]
  },
  {
   "cell_type": "code",
   "execution_count": 4,
   "id": "5052e718",
   "metadata": {},
   "outputs": [],
   "source": [
    "rows_to_delete = [0, 1, 3, 4, 5, 7, 8, 9, 11]\n",
    "\n",
    "df = df.drop(df.index[rows_to_delete])"
   ]
  },
  {
   "cell_type": "code",
   "execution_count": 5,
   "id": "fefbd45c",
   "metadata": {},
   "outputs": [
    {
     "data": {
      "text/html": [
       "<div>\n",
       "<style scoped>\n",
       "    .dataframe tbody tr th:only-of-type {\n",
       "        vertical-align: middle;\n",
       "    }\n",
       "\n",
       "    .dataframe tbody tr th {\n",
       "        vertical-align: top;\n",
       "    }\n",
       "\n",
       "    .dataframe thead th {\n",
       "        text-align: right;\n",
       "    }\n",
       "</style>\n",
       "<table border=\"1\" class=\"dataframe\">\n",
       "  <thead>\n",
       "    <tr style=\"text-align: right;\">\n",
       "      <th></th>\n",
       "      <th>Date</th>\n",
       "      <th>Adidas Revenue</th>\n",
       "      <th>Adidas Europe GDP</th>\n",
       "      <th>Adidas China GDP</th>\n",
       "      <th>Adidas Price index</th>\n",
       "      <th>Nike Revenue</th>\n",
       "    </tr>\n",
       "  </thead>\n",
       "  <tbody>\n",
       "    <tr>\n",
       "      <th>2</th>\n",
       "      <td>2000</td>\n",
       "      <td>1677</td>\n",
       "      <td>1769.2586</td>\n",
       "      <td>310.55</td>\n",
       "      <td>322.5</td>\n",
       "      <td>2636.7</td>\n",
       "    </tr>\n",
       "    <tr>\n",
       "      <th>6</th>\n",
       "      <td>2001</td>\n",
       "      <td>1790</td>\n",
       "      <td>1845.8787</td>\n",
       "      <td>342.32</td>\n",
       "      <td>313.3</td>\n",
       "      <td>2613.7</td>\n",
       "    </tr>\n",
       "    <tr>\n",
       "      <th>10</th>\n",
       "      <td>2002</td>\n",
       "      <td>1868</td>\n",
       "      <td>1914.8373</td>\n",
       "      <td>377.63</td>\n",
       "      <td>298.9</td>\n",
       "      <td>2796.3</td>\n",
       "    </tr>\n",
       "  </tbody>\n",
       "</table>\n",
       "</div>"
      ],
      "text/plain": [
       "    Date  Adidas Revenue  Adidas Europe GDP  Adidas China GDP  \\\n",
       "2   2000            1677          1769.2586            310.55   \n",
       "6   2001            1790          1845.8787            342.32   \n",
       "10  2002            1868          1914.8373            377.63   \n",
       "\n",
       "    Adidas Price index  Nike Revenue  \n",
       "2                322.5        2636.7  \n",
       "6                313.3        2613.7  \n",
       "10               298.9        2796.3  "
      ]
     },
     "execution_count": 5,
     "metadata": {},
     "output_type": "execute_result"
    }
   ],
   "source": [
    "df.head()"
   ]
  },
  {
   "cell_type": "code",
   "execution_count": 6,
   "id": "8473023e",
   "metadata": {},
   "outputs": [],
   "source": [
    "temp = df['Date'].str.split(' ', expand=True)\n",
    "temp = temp.rename(columns={0: 'year', 1: 'quarter'})\n",
    "df_concat = pd.concat([df, temp], axis=1)"
   ]
  },
  {
   "cell_type": "code",
   "execution_count": 7,
   "id": "460dbce4",
   "metadata": {},
   "outputs": [
    {
     "name": "stdout",
     "output_type": "stream",
     "text": [
      "    year\n",
      "2   2000\n",
      "6   2001\n",
      "10  2002\n"
     ]
    }
   ],
   "source": [
    "print(temp)"
   ]
  },
  {
   "cell_type": "code",
   "execution_count": 8,
   "id": "1c258c16",
   "metadata": {},
   "outputs": [
    {
     "name": "stdout",
     "output_type": "stream",
     "text": [
      "    Date  Adidas Revenue  Adidas Europe GDP  Adidas China GDP  \\\n",
      "2   2000            1677          1769.2586            310.55   \n",
      "6   2001            1790          1845.8787            342.32   \n",
      "10  2002            1868          1914.8373            377.63   \n",
      "\n",
      "    Adidas Price index  Nike Revenue  year  \n",
      "2                322.5        2636.7  2000  \n",
      "6                313.3        2613.7  2001  \n",
      "10               298.9        2796.3  2002  \n"
     ]
    }
   ],
   "source": [
    "print(df_concat)"
   ]
  },
  {
   "cell_type": "code",
   "execution_count": 47,
   "id": "c1de0419",
   "metadata": {},
   "outputs": [
    {
     "data": {
      "text/plain": [
       "<function matplotlib.pyplot.show(close=None, block=None)>"
      ]
     },
     "execution_count": 47,
     "metadata": {},
     "output_type": "execute_result"
    },
    {
     "data": {
      "image/png": "[encoded data removed]",
      "text/plain": [
       "<Figure size 1000x1000 with 1 Axes>"
      ]
     },
     "metadata": {},
     "output_type": "display_data"
    }
   ],
   "source": [
    "plt.figure(figsize=(10,10))\n",
    "\n",
    "plt.title('Adidas and Nike Revenue per Quarter')\n",
    "\n",
    "plt.plot(df.Date,df['Adidas Revenue'], 'b.-', label = 'Adidas Revenue')\n",
    "plt.plot(df.Date,df['Nike Revenue'], 'r.-', label = 'Nike Revenue')\n",
    "plt.plot(df.Date,df['Adidas China GDP'], 'g.-', label = 'Adidas China GDP')\n",
    "plt.xlabel('Quarters')\n",
    "plt.ylabel('UK Pounds')\n",
    "plt.legend()\n",
    "plt.show"
   ]
  },
  {
   "cell_type": "code",
   "execution_count": 10,
   "id": "4962f653",
   "metadata": {},
   "outputs": [
    {
     "data": {
      "text/html": [
       "<div>\n",
       "<style scoped>\n",
       "    .dataframe tbody tr th:only-of-type {\n",
       "        vertical-align: middle;\n",
       "    }\n",
       "\n",
       "    .dataframe tbody tr th {\n",
       "        vertical-align: top;\n",
       "    }\n",
       "\n",
       "    .dataframe thead th {\n",
       "        text-align: right;\n",
       "    }\n",
       "</style>\n",
       "<table border=\"1\" class=\"dataframe\">\n",
       "  <thead>\n",
       "    <tr style=\"text-align: right;\">\n",
       "      <th></th>\n",
       "      <th>Date</th>\n",
       "      <th>Adidas Revenue</th>\n",
       "      <th>Adidas Europe GDP</th>\n",
       "      <th>Adidas China GDP</th>\n",
       "      <th>Adidas Price index</th>\n",
       "      <th>Nike Revenue</th>\n",
       "    </tr>\n",
       "  </thead>\n",
       "  <tbody>\n",
       "    <tr>\n",
       "      <th>2</th>\n",
       "      <td>2000</td>\n",
       "      <td>1677</td>\n",
       "      <td>1769.2586</td>\n",
       "      <td>310.55</td>\n",
       "      <td>322.5</td>\n",
       "      <td>2636.7</td>\n",
       "    </tr>\n",
       "    <tr>\n",
       "      <th>6</th>\n",
       "      <td>2001</td>\n",
       "      <td>1790</td>\n",
       "      <td>1845.8787</td>\n",
       "      <td>342.32</td>\n",
       "      <td>313.3</td>\n",
       "      <td>2613.7</td>\n",
       "    </tr>\n",
       "    <tr>\n",
       "      <th>10</th>\n",
       "      <td>2002</td>\n",
       "      <td>1868</td>\n",
       "      <td>1914.8373</td>\n",
       "      <td>377.63</td>\n",
       "      <td>298.9</td>\n",
       "      <td>2796.3</td>\n",
       "    </tr>\n",
       "  </tbody>\n",
       "</table>\n",
       "</div>"
      ],
      "text/plain": [
       "    Date  Adidas Revenue  Adidas Europe GDP  Adidas China GDP  \\\n",
       "2   2000            1677          1769.2586            310.55   \n",
       "6   2001            1790          1845.8787            342.32   \n",
       "10  2002            1868          1914.8373            377.63   \n",
       "\n",
       "    Adidas Price index  Nike Revenue  \n",
       "2                322.5        2636.7  \n",
       "6                313.3        2613.7  \n",
       "10               298.9        2796.3  "
      ]
     },
     "execution_count": 10,
     "metadata": {},
     "output_type": "execute_result"
    }
   ],
   "source": [
    "df.head()"
   ]
  },
  {
   "cell_type": "code",
   "execution_count": null,
   "id": "c4672ccc",
   "metadata": {},
   "outputs": [],
   "source": []
  },
  {
   "cell_type": "code",
   "execution_count": 11,
   "id": "f21fd617",
   "metadata": {},
   "outputs": [
    {
     "name": "stdout",
     "output_type": "stream",
     "text": [
      "<class 'pandas.core.frame.DataFrame'>\n",
      "Int64Index: 3 entries, 2 to 10\n",
      "Data columns (total 6 columns):\n",
      " #   Column              Non-Null Count  Dtype  \n",
      "---  ------              --------------  -----  \n",
      " 0   Date                3 non-null      object \n",
      " 1   Adidas Revenue      3 non-null      int64  \n",
      " 2   Adidas Europe GDP   3 non-null      float64\n",
      " 3   Adidas China GDP    3 non-null      float64\n",
      " 4   Adidas Price index  3 non-null      float64\n",
      " 5   Nike Revenue        3 non-null      float64\n",
      "dtypes: float64(4), int64(1), object(1)\n",
      "memory usage: 168.0+ bytes\n"
     ]
    }
   ],
   "source": [
    "df.info()"
   ]
  },
  {
   "cell_type": "code",
   "execution_count": 12,
   "id": "24d88532",
   "metadata": {},
   "outputs": [
    {
     "name": "stdout",
     "output_type": "stream",
     "text": [
      "<class 'pandas.core.frame.DataFrame'>\n",
      "Int64Index: 3 entries, 2 to 10\n",
      "Data columns (total 7 columns):\n",
      " #   Column              Non-Null Count  Dtype  \n",
      "---  ------              --------------  -----  \n",
      " 0   Date                3 non-null      object \n",
      " 1   Adidas Revenue      3 non-null      int64  \n",
      " 2   Adidas Europe GDP   3 non-null      float64\n",
      " 3   Adidas China GDP    3 non-null      float64\n",
      " 4   Adidas Price index  3 non-null      float64\n",
      " 5   Nike Revenue        3 non-null      float64\n",
      " 6   year                3 non-null      object \n",
      "dtypes: float64(4), int64(1), object(2)\n",
      "memory usage: 192.0+ bytes\n"
     ]
    }
   ],
   "source": [
    "df_concat.info()"
   ]
  },
  {
   "cell_type": "code",
   "execution_count": 13,
   "id": "84570632",
   "metadata": {},
   "outputs": [],
   "source": [
    "from sklearn.linear_model import LinearRegression"
   ]
  },
  {
   "cell_type": "code",
   "execution_count": 14,
   "id": "2676af44",
   "metadata": {},
   "outputs": [
    {
     "name": "stdout",
     "output_type": "stream",
     "text": [
      "[[2000]\n",
      " [2001]\n",
      " [2002]]\n"
     ]
    }
   ],
   "source": [
    "array = np.array([2000, 2001, 2002])\n",
    "array = array.reshape(-1, 1)\n",
    "print(array)"
   ]
  },
  {
   "cell_type": "code",
   "execution_count": 15,
   "id": "195c0845",
   "metadata": {},
   "outputs": [],
   "source": [
    "from sklearn.neighbors import KNeighborsClassifier"
   ]
  },
  {
   "cell_type": "code",
   "execution_count": 33,
   "id": "f57acc08",
   "metadata": {},
   "outputs": [],
   "source": [
    "from sklearn.model_selection import train_test_split\n",
    "knn = KNeighborsClassifier(n_neighbors=2)\n",
    "feature = ['Date']\n",
    "label = ['Adidas Revenue']\n",
    "x = df[feature]\n",
    "y = df[label]\n",
    "x_train, x_test, y_train, y_test = train_test_split(x,y)"
   ]
  },
  {
   "cell_type": "code",
   "execution_count": 34,
   "id": "1c75dae1",
   "metadata": {},
   "outputs": [],
   "source": [
    "y = df.to_numpy()\n",
    "y = y.reshape(-1)\n"
   ]
  },
  {
   "cell_type": "code",
   "execution_count": 35,
   "id": "74a5e10a",
   "metadata": {},
   "outputs": [
    {
     "name": "stderr",
     "output_type": "stream",
     "text": [
      "C:\\ProgramData\\Anaconda3\\lib\\site-packages\\sklearn\\neighbors\\_classification.py:198: DataConversionWarning: A column-vector y was passed when a 1d array was expected. Please change the shape of y to (n_samples,), for example using ravel().\n",
      "  return self._fit(X, y)\n"
     ]
    },
    {
     "data": {
      "text/plain": [
       "KNeighborsClassifier(n_neighbors=2)"
      ]
     },
     "execution_count": 35,
     "metadata": {},
     "output_type": "execute_result"
    }
   ],
   "source": [
    "knn.fit(x_train, y_train)"
   ]
  },
  {
   "cell_type": "code",
   "execution_count": 36,
   "id": "4035333c",
   "metadata": {},
   "outputs": [
    {
     "name": "stderr",
     "output_type": "stream",
     "text": [
      "C:\\ProgramData\\Anaconda3\\lib\\site-packages\\sklearn\\neighbors\\_classification.py:228: FutureWarning: Unlike other reduction functions (e.g. `skew`, `kurtosis`), the default behavior of `mode` typically preserves the axis it acts along. In SciPy 1.11.0, this behavior will change: the default value of `keepdims` will become False, the `axis` over which the statistic is taken will be eliminated, and the value None will no longer be accepted. Set `keepdims` to True or False to avoid this warning.\n",
      "  mode, _ = stats.mode(_y[neigh_ind, k], axis=1)\n",
      "C:\\ProgramData\\Anaconda3\\lib\\site-packages\\sklearn\\neighbors\\_classification.py:228: FutureWarning: Unlike other reduction functions (e.g. `skew`, `kurtosis`), the default behavior of `mode` typically preserves the axis it acts along. In SciPy 1.11.0, this behavior will change: the default value of `keepdims` will become False, the `axis` over which the statistic is taken will be eliminated, and the value None will no longer be accepted. Set `keepdims` to True or False to avoid this warning.\n",
      "  mode, _ = stats.mode(_y[neigh_ind, k], axis=1)\n"
     ]
    }
   ],
   "source": [
    "y_pred = knn.predict(x_test)\n",
    "accuracy = knn.score(x_test, y_test)"
   ]
  },
  {
   "cell_type": "code",
   "execution_count": 40,
   "id": "d328a8c1",
   "metadata": {},
   "outputs": [
    {
     "name": "stderr",
     "output_type": "stream",
     "text": [
      "C:\\ProgramData\\Anaconda3\\lib\\site-packages\\seaborn\\_decorators.py:36: FutureWarning: Pass the following variables as keyword args: x, y. From version 0.12, the only valid positional argument will be `data`, and passing other arguments without an explicit keyword will result in an error or misinterpretation.\n",
      "  warnings.warn(\n"
     ]
    },
    {
     "data": {
      "image/png": "[encoded data removed]",
      "text/plain": [
       "<Figure size 640x480 with 1 Axes>"
      ]
     },
     "metadata": {},
     "output_type": "display_data"
    }
   ],
   "source": [
    "import seaborn as sns\n",
    "sns.scatterplot(df['Date'], df['Adidas Revenue']);"
   ]
  },
  {
   "cell_type": "code",
   "execution_count": 45,
   "id": "ff77e93e",
   "metadata": {},
   "outputs": [
    {
     "data": {
      "text/plain": [
       "<function matplotlib.pyplot.show(close=None, block=None)>"
      ]
     },
     "execution_count": 45,
     "metadata": {},
     "output_type": "execute_result"
    },
    {
     "data": {
      "image/png": "[encoded data removed]",
      "text/plain": [
       "<Figure size 1000x500 with 1 Axes>"
      ]
     },
     "metadata": {},
     "output_type": "display_data"
    }
   ],
   "source": [
    "plt.figure(figsize=(10,5))\n",
    "\n",
    "plt.title('Adidas China GDP per Quarter')\n",
    "\n",
    "plt.plot(df.Date,df['Adidas China GDP'], 'b.-', label = 'Adidas China GDP')\n",
    "\n",
    "plt.xlabel('Quarters')\n",
    "plt.ylabel('UK Pounds')\n",
    "plt.legend()\n",
    "plt.show"
   ]
  },
  {
   "cell_type": "code",
   "execution_count": 48,
   "id": "ffd6942a",
   "metadata": {},
   "outputs": [],
   "source": [
    "import statistics"
   ]
  },
  {
   "cell_type": "code",
   "execution_count": 49,
   "id": "30bcda2d",
   "metadata": {},
   "outputs": [],
   "source": [
    "stdev = statistics.stdev(df['Adidas Revenue'])"
   ]
  },
  {
   "cell_type": "code",
   "execution_count": 50,
   "id": "ec0e5a6a",
   "metadata": {},
   "outputs": [],
   "source": [
    "mean = statistics.mean(df['Adidas Revenue'])\n",
    "stdev = statistics.stdev(df['Adidas Revenue'])"
   ]
  },
  {
   "cell_type": "code",
   "execution_count": 51,
   "id": "be08cc1b",
   "metadata": {},
   "outputs": [
    {
     "name": "stdout",
     "output_type": "stream",
     "text": [
      "Mean: 1778.3333333333333\n",
      "Standard Deviation: 96.03298044595583\n"
     ]
    }
   ],
   "source": [
    "print(f\"Mean: {mean}\")\n",
    "print(f\"Standard Deviation: {stdev}\")"
   ]
  },
  {
   "cell_type": "code",
   "execution_count": 52,
   "id": "90e57728",
   "metadata": {},
   "outputs": [],
   "source": [
    "stdev = statistics.stdev(df['Nike Revenue'])"
   ]
  },
  {
   "cell_type": "code",
   "execution_count": 53,
   "id": "fa0e0f59",
   "metadata": {},
   "outputs": [],
   "source": [
    "mean = statistics.mean(df['Nike Revenue'])\n",
    "stdev = statistics.stdev(df['Nike Revenue'])"
   ]
  },
  {
   "cell_type": "code",
   "execution_count": 54,
   "id": "3911e823",
   "metadata": {},
   "outputs": [
    {
     "name": "stdout",
     "output_type": "stream",
     "text": [
      "Mean: 2682.233333333333\n",
      "Standard Deviation: 99.45176385229864\n"
     ]
    }
   ],
   "source": [
    "print(f\"Mean: {mean}\")\n",
    "print(f\"Standard Deviation: {stdev}\")"
   ]
  },
  {
   "cell_type": "code",
   "execution_count": 55,
   "id": "36c54e04",
   "metadata": {},
   "outputs": [],
   "source": [
    "stdev = statistics.stdev(df['Adidas China GDP'])"
   ]
  },
  {
   "cell_type": "code",
   "execution_count": 56,
   "id": "6f762b96",
   "metadata": {},
   "outputs": [],
   "source": [
    "mean = statistics.mean(df['Adidas China GDP'])\n",
    "stdev = statistics.stdev(df['Adidas China GDP'])"
   ]
  },
  {
   "cell_type": "code",
   "execution_count": 57,
   "id": "9b641681",
   "metadata": {},
   "outputs": [
    {
     "name": "stdout",
     "output_type": "stream",
     "text": [
      "Mean: 343.5\n",
      "Standard Deviation: 33.55556436718059\n"
     ]
    }
   ],
   "source": [
    "print(f\"Mean: {mean}\")\n",
    "print(f\"Standard Deviation: {stdev}\")"
   ]
  },
  {
   "cell_type": "code",
   "execution_count": null,
   "id": "c40d14f5",
   "metadata": {},
   "outputs": [],
   "source": []
  }
 ],
 "metadata": {
  "kernelspec": {
   "display_name": "Python 3 (ipykernel)",
   "language": "python",
   "name": "python3"
  },
  "language_info": {
   "codemirror_mode": {
    "name": "ipython",
    "version": 3
   },
   "file_extension": ".py",
   "mimetype": "text/x-python",
   "name": "python",
   "nbconvert_exporter": "python",
   "pygments_lexer": "ipython3",
   "version": "3.9.13"
  }
 },
 "nbformat": 4,
 "nbformat_minor": 5
}
