{
 "cells": [
  {
   "cell_type": "code",
   "execution_count": 1,
   "id": "b162652c",
   "metadata": {},
   "outputs": [],
   "source": [
    "import pandas as pd"
   ]
  },
  {
   "cell_type": "code",
   "execution_count": 2,
   "id": "58acb124",
   "metadata": {},
   "outputs": [],
   "source": [
    "df = pd.read_csv('/users/lauragallo/Desktop/DATA/bookings.csv')"
   ]
  },
  {
   "cell_type": "code",
   "execution_count": 3,
   "id": "b4b1d68b",
   "metadata": {},
   "outputs": [
    {
     "data": {
      "text/html": [
       "<div>\n",
       "<style scoped>\n",
       "    .dataframe tbody tr th:only-of-type {\n",
       "        vertical-align: middle;\n",
       "    }\n",
       "\n",
       "    .dataframe tbody tr th {\n",
       "        vertical-align: top;\n",
       "    }\n",
       "\n",
       "    .dataframe thead th {\n",
       "        text-align: right;\n",
       "    }\n",
       "</style>\n",
       "<table border=\"1\" class=\"dataframe\">\n",
       "  <thead>\n",
       "    <tr style=\"text-align: right;\">\n",
       "      <th></th>\n",
       "      <th>city</th>\n",
       "      <th>ds</th>\n",
       "      <th>bookings</th>\n",
       "    </tr>\n",
       "  </thead>\n",
       "  <tbody>\n",
       "    <tr>\n",
       "      <th>0</th>\n",
       "      <td>City_2</td>\n",
       "      <td>01/01/2013</td>\n",
       "      <td>69</td>\n",
       "    </tr>\n",
       "    <tr>\n",
       "      <th>1</th>\n",
       "      <td>City_2</td>\n",
       "      <td>01/02/2013</td>\n",
       "      <td>101</td>\n",
       "    </tr>\n",
       "    <tr>\n",
       "      <th>2</th>\n",
       "      <td>City_2</td>\n",
       "      <td>01/03/2013</td>\n",
       "      <td>134</td>\n",
       "    </tr>\n",
       "    <tr>\n",
       "      <th>3</th>\n",
       "      <td>City_2</td>\n",
       "      <td>01/04/2013</td>\n",
       "      <td>155</td>\n",
       "    </tr>\n",
       "    <tr>\n",
       "      <th>4</th>\n",
       "      <td>City_2</td>\n",
       "      <td>01/05/2013</td>\n",
       "      <td>104</td>\n",
       "    </tr>\n",
       "    <tr>\n",
       "      <th>...</th>\n",
       "      <td>...</td>\n",
       "      <td>...</td>\n",
       "      <td>...</td>\n",
       "    </tr>\n",
       "    <tr>\n",
       "      <th>724</th>\n",
       "      <td>City_1</td>\n",
       "      <td>12/27/13</td>\n",
       "      <td>55</td>\n",
       "    </tr>\n",
       "    <tr>\n",
       "      <th>725</th>\n",
       "      <td>City_1</td>\n",
       "      <td>12/28/13</td>\n",
       "      <td>63</td>\n",
       "    </tr>\n",
       "    <tr>\n",
       "      <th>726</th>\n",
       "      <td>City_1</td>\n",
       "      <td>12/29/13</td>\n",
       "      <td>55</td>\n",
       "    </tr>\n",
       "    <tr>\n",
       "      <th>727</th>\n",
       "      <td>City_1</td>\n",
       "      <td>12/30/13</td>\n",
       "      <td>66</td>\n",
       "    </tr>\n",
       "    <tr>\n",
       "      <th>728</th>\n",
       "      <td>City_1</td>\n",
       "      <td>12/31/13</td>\n",
       "      <td>65</td>\n",
       "    </tr>\n",
       "  </tbody>\n",
       "</table>\n",
       "<p>729 rows × 3 columns</p>\n",
       "</div>"
      ],
      "text/plain": [
       "       city          ds  bookings\n",
       "0    City_2  01/01/2013        69\n",
       "1    City_2  01/02/2013       101\n",
       "2    City_2  01/03/2013       134\n",
       "3    City_2  01/04/2013       155\n",
       "4    City_2  01/05/2013       104\n",
       "..      ...         ...       ...\n",
       "724  City_1    12/27/13        55\n",
       "725  City_1    12/28/13        63\n",
       "726  City_1    12/29/13        55\n",
       "727  City_1    12/30/13        66\n",
       "728  City_1    12/31/13        65\n",
       "\n",
       "[729 rows x 3 columns]"
      ]
     },
     "execution_count": 3,
     "metadata": {},
     "output_type": "execute_result"
    }
   ],
   "source": [
    "df"
   ]
  },
  {
   "cell_type": "code",
   "execution_count": 4,
   "id": "ee48c5b9",
   "metadata": {},
   "outputs": [
    {
     "name": "stdout",
     "output_type": "stream",
     "text": [
      "<class 'pandas.core.frame.DataFrame'>\n",
      "RangeIndex: 729 entries, 0 to 728\n",
      "Data columns (total 3 columns):\n",
      " #   Column    Non-Null Count  Dtype \n",
      "---  ------    --------------  ----- \n",
      " 0   city      729 non-null    object\n",
      " 1   ds        729 non-null    object\n",
      " 2   bookings  729 non-null    int64 \n",
      "dtypes: int64(1), object(2)\n",
      "memory usage: 17.2+ KB\n"
     ]
    }
   ],
   "source": [
    "df.info()"
   ]
  },
  {
   "cell_type": "code",
   "execution_count": 5,
   "id": "9550b2c0",
   "metadata": {},
   "outputs": [],
   "source": [
    "df['dates'] = pd.to_datetime(df['ds'],infer_datetime_format=True)"
   ]
  },
  {
   "cell_type": "code",
   "execution_count": 6,
   "id": "a502a4c9",
   "metadata": {},
   "outputs": [
    {
     "name": "stdout",
     "output_type": "stream",
     "text": [
      "<class 'pandas.core.frame.DataFrame'>\n",
      "RangeIndex: 729 entries, 0 to 728\n",
      "Data columns (total 4 columns):\n",
      " #   Column    Non-Null Count  Dtype         \n",
      "---  ------    --------------  -----         \n",
      " 0   city      729 non-null    object        \n",
      " 1   ds        729 non-null    object        \n",
      " 2   bookings  729 non-null    int64         \n",
      " 3   dates     729 non-null    datetime64[ns]\n",
      "dtypes: datetime64[ns](1), int64(1), object(2)\n",
      "memory usage: 22.9+ KB\n"
     ]
    }
   ],
   "source": [
    "df.info()"
   ]
  },
  {
   "cell_type": "code",
   "execution_count": 7,
   "id": "e1b5775a",
   "metadata": {},
   "outputs": [
    {
     "data": {
      "text/html": [
       "<div>\n",
       "<style scoped>\n",
       "    .dataframe tbody tr th:only-of-type {\n",
       "        vertical-align: middle;\n",
       "    }\n",
       "\n",
       "    .dataframe tbody tr th {\n",
       "        vertical-align: top;\n",
       "    }\n",
       "\n",
       "    .dataframe thead th {\n",
       "        text-align: right;\n",
       "    }\n",
       "</style>\n",
       "<table border=\"1\" class=\"dataframe\">\n",
       "  <thead>\n",
       "    <tr style=\"text-align: right;\">\n",
       "      <th></th>\n",
       "      <th>city</th>\n",
       "      <th>ds</th>\n",
       "      <th>bookings</th>\n",
       "      <th>dates</th>\n",
       "    </tr>\n",
       "  </thead>\n",
       "  <tbody>\n",
       "    <tr>\n",
       "      <th>0</th>\n",
       "      <td>City_2</td>\n",
       "      <td>01/01/2013</td>\n",
       "      <td>69</td>\n",
       "      <td>2013-01-01</td>\n",
       "    </tr>\n",
       "    <tr>\n",
       "      <th>1</th>\n",
       "      <td>City_2</td>\n",
       "      <td>01/02/2013</td>\n",
       "      <td>101</td>\n",
       "      <td>2013-01-02</td>\n",
       "    </tr>\n",
       "    <tr>\n",
       "      <th>2</th>\n",
       "      <td>City_2</td>\n",
       "      <td>01/03/2013</td>\n",
       "      <td>134</td>\n",
       "      <td>2013-01-03</td>\n",
       "    </tr>\n",
       "    <tr>\n",
       "      <th>3</th>\n",
       "      <td>City_2</td>\n",
       "      <td>01/04/2013</td>\n",
       "      <td>155</td>\n",
       "      <td>2013-01-04</td>\n",
       "    </tr>\n",
       "    <tr>\n",
       "      <th>4</th>\n",
       "      <td>City_2</td>\n",
       "      <td>01/05/2013</td>\n",
       "      <td>104</td>\n",
       "      <td>2013-01-05</td>\n",
       "    </tr>\n",
       "    <tr>\n",
       "      <th>...</th>\n",
       "      <td>...</td>\n",
       "      <td>...</td>\n",
       "      <td>...</td>\n",
       "      <td>...</td>\n",
       "    </tr>\n",
       "    <tr>\n",
       "      <th>724</th>\n",
       "      <td>City_1</td>\n",
       "      <td>12/27/13</td>\n",
       "      <td>55</td>\n",
       "      <td>2013-12-27</td>\n",
       "    </tr>\n",
       "    <tr>\n",
       "      <th>725</th>\n",
       "      <td>City_1</td>\n",
       "      <td>12/28/13</td>\n",
       "      <td>63</td>\n",
       "      <td>2013-12-28</td>\n",
       "    </tr>\n",
       "    <tr>\n",
       "      <th>726</th>\n",
       "      <td>City_1</td>\n",
       "      <td>12/29/13</td>\n",
       "      <td>55</td>\n",
       "      <td>2013-12-29</td>\n",
       "    </tr>\n",
       "    <tr>\n",
       "      <th>727</th>\n",
       "      <td>City_1</td>\n",
       "      <td>12/30/13</td>\n",
       "      <td>66</td>\n",
       "      <td>2013-12-30</td>\n",
       "    </tr>\n",
       "    <tr>\n",
       "      <th>728</th>\n",
       "      <td>City_1</td>\n",
       "      <td>12/31/13</td>\n",
       "      <td>65</td>\n",
       "      <td>2013-12-31</td>\n",
       "    </tr>\n",
       "  </tbody>\n",
       "</table>\n",
       "<p>729 rows × 4 columns</p>\n",
       "</div>"
      ],
      "text/plain": [
       "       city          ds  bookings      dates\n",
       "0    City_2  01/01/2013        69 2013-01-01\n",
       "1    City_2  01/02/2013       101 2013-01-02\n",
       "2    City_2  01/03/2013       134 2013-01-03\n",
       "3    City_2  01/04/2013       155 2013-01-04\n",
       "4    City_2  01/05/2013       104 2013-01-05\n",
       "..      ...         ...       ...        ...\n",
       "724  City_1    12/27/13        55 2013-12-27\n",
       "725  City_1    12/28/13        63 2013-12-28\n",
       "726  City_1    12/29/13        55 2013-12-29\n",
       "727  City_1    12/30/13        66 2013-12-30\n",
       "728  City_1    12/31/13        65 2013-12-31\n",
       "\n",
       "[729 rows x 4 columns]"
      ]
     },
     "execution_count": 7,
     "metadata": {},
     "output_type": "execute_result"
    }
   ],
   "source": [
    "df"
   ]
  },
  {
   "cell_type": "markdown",
   "id": "0109e7bd",
   "metadata": {},
   "source": [
    "### Create Dataframes for City_1 and City_2"
   ]
  },
  {
   "cell_type": "code",
   "execution_count": 8,
   "id": "1d7fa10f",
   "metadata": {},
   "outputs": [],
   "source": [
    "city_1=df.loc[df['city'] == 'City_1']"
   ]
  },
  {
   "cell_type": "code",
   "execution_count": 9,
   "id": "88953ef1",
   "metadata": {},
   "outputs": [],
   "source": [
    "city_2=df.loc[df['city'] == 'City_2']"
   ]
  },
  {
   "cell_type": "markdown",
   "id": "32107953",
   "metadata": {},
   "source": [
    "### Rolling mean for City_1 and City_2"
   ]
  },
  {
   "cell_type": "code",
   "execution_count": 10,
   "id": "af0cfebf",
   "metadata": {},
   "outputs": [
    {
     "name": "stderr",
     "output_type": "stream",
     "text": [
      "C:\\Users\\lauragallo\\AppData\\Local\\Temp\\ipykernel_1916\\3370250492.py:1: SettingWithCopyWarning: \n",
      "A value is trying to be set on a copy of a slice from a DataFrame.\n",
      "Try using .loc[row_indexer,col_indexer] = value instead\n",
      "\n",
      "See the caveats in the documentation: https://pandas.pydata.org/pandas-docs/stable/user_guide/indexing.html#returning-a-view-versus-a-copy\n",
      "  city_1.loc[:,'Rolling Average'] = city_1.loc[:,'bookings'].rolling(30).mean()\n"
     ]
    }
   ],
   "source": [
    "city_1.loc[:,'Rolling Average'] = city_1.loc[:,'bookings'].rolling(30).mean()"
   ]
  },
  {
   "cell_type": "code",
   "execution_count": 11,
   "id": "584e67b7",
   "metadata": {},
   "outputs": [
    {
     "name": "stderr",
     "output_type": "stream",
     "text": [
      "C:\\Users\\lauragallo\\AppData\\Local\\Temp\\ipykernel_1916\\2613399656.py:1: SettingWithCopyWarning: \n",
      "A value is trying to be set on a copy of a slice from a DataFrame.\n",
      "Try using .loc[row_indexer,col_indexer] = value instead\n",
      "\n",
      "See the caveats in the documentation: https://pandas.pydata.org/pandas-docs/stable/user_guide/indexing.html#returning-a-view-versus-a-copy\n",
      "  city_2.loc[:,'Rolling Average'] = city_2.loc[:,'bookings'].rolling(30).mean()\n"
     ]
    }
   ],
   "source": [
    "city_2.loc[:,'Rolling Average'] = city_2.loc[:,'bookings'].rolling(30).mean()"
   ]
  },
  {
   "cell_type": "markdown",
   "id": "3a2b8228",
   "metadata": {},
   "source": [
    "### Rolling standard deviation for City_1 and City_2"
   ]
  },
  {
   "cell_type": "code",
   "execution_count": 12,
   "id": "4735ad89",
   "metadata": {},
   "outputs": [
    {
     "name": "stderr",
     "output_type": "stream",
     "text": [
      "C:\\Users\\lauragallo\\AppData\\Local\\Temp\\ipykernel_1916\\3802983860.py:1: SettingWithCopyWarning: \n",
      "A value is trying to be set on a copy of a slice from a DataFrame.\n",
      "Try using .loc[row_indexer,col_indexer] = value instead\n",
      "\n",
      "See the caveats in the documentation: https://pandas.pydata.org/pandas-docs/stable/user_guide/indexing.html#returning-a-view-versus-a-copy\n",
      "  city_1['Rolling StDev']= city_1['bookings'].rolling(30).std()\n"
     ]
    }
   ],
   "source": [
    "city_1['Rolling StDev']= city_1['bookings'].rolling(30).std()"
   ]
  },
  {
   "cell_type": "code",
   "execution_count": 13,
   "id": "157fdbe0",
   "metadata": {},
   "outputs": [
    {
     "name": "stderr",
     "output_type": "stream",
     "text": [
      "C:\\Users\\lauragallo\\AppData\\Local\\Temp\\ipykernel_1916\\3119234664.py:1: SettingWithCopyWarning: \n",
      "A value is trying to be set on a copy of a slice from a DataFrame.\n",
      "Try using .loc[row_indexer,col_indexer] = value instead\n",
      "\n",
      "See the caveats in the documentation: https://pandas.pydata.org/pandas-docs/stable/user_guide/indexing.html#returning-a-view-versus-a-copy\n",
      "  city_2['Rolling StDev']= city_1['bookings'].rolling(30).std()\n"
     ]
    }
   ],
   "source": [
    "city_2['Rolling StDev']= city_1['bookings'].rolling(30).std()"
   ]
  },
  {
   "cell_type": "code",
   "execution_count": 14,
   "id": "f10a295c",
   "metadata": {},
   "outputs": [
    {
     "data": {
      "text/html": [
       "<div>\n",
       "<style scoped>\n",
       "    .dataframe tbody tr th:only-of-type {\n",
       "        vertical-align: middle;\n",
       "    }\n",
       "\n",
       "    .dataframe tbody tr th {\n",
       "        vertical-align: top;\n",
       "    }\n",
       "\n",
       "    .dataframe thead th {\n",
       "        text-align: right;\n",
       "    }\n",
       "</style>\n",
       "<table border=\"1\" class=\"dataframe\">\n",
       "  <thead>\n",
       "    <tr style=\"text-align: right;\">\n",
       "      <th></th>\n",
       "      <th>city</th>\n",
       "      <th>ds</th>\n",
       "      <th>bookings</th>\n",
       "      <th>dates</th>\n",
       "      <th>Rolling Average</th>\n",
       "      <th>Rolling StDev</th>\n",
       "    </tr>\n",
       "  </thead>\n",
       "  <tbody>\n",
       "    <tr>\n",
       "      <th>364</th>\n",
       "      <td>City_1</td>\n",
       "      <td>01/01/2013</td>\n",
       "      <td>16</td>\n",
       "      <td>2013-01-01</td>\n",
       "      <td>NaN</td>\n",
       "      <td>NaN</td>\n",
       "    </tr>\n",
       "    <tr>\n",
       "      <th>365</th>\n",
       "      <td>City_1</td>\n",
       "      <td>01/02/2013</td>\n",
       "      <td>20</td>\n",
       "      <td>2013-01-02</td>\n",
       "      <td>NaN</td>\n",
       "      <td>NaN</td>\n",
       "    </tr>\n",
       "    <tr>\n",
       "      <th>366</th>\n",
       "      <td>City_1</td>\n",
       "      <td>01/03/2013</td>\n",
       "      <td>15</td>\n",
       "      <td>2013-01-03</td>\n",
       "      <td>NaN</td>\n",
       "      <td>NaN</td>\n",
       "    </tr>\n",
       "    <tr>\n",
       "      <th>367</th>\n",
       "      <td>City_1</td>\n",
       "      <td>01/04/2013</td>\n",
       "      <td>22</td>\n",
       "      <td>2013-01-04</td>\n",
       "      <td>NaN</td>\n",
       "      <td>NaN</td>\n",
       "    </tr>\n",
       "    <tr>\n",
       "      <th>368</th>\n",
       "      <td>City_1</td>\n",
       "      <td>01/05/2013</td>\n",
       "      <td>16</td>\n",
       "      <td>2013-01-05</td>\n",
       "      <td>NaN</td>\n",
       "      <td>NaN</td>\n",
       "    </tr>\n",
       "    <tr>\n",
       "      <th>...</th>\n",
       "      <td>...</td>\n",
       "      <td>...</td>\n",
       "      <td>...</td>\n",
       "      <td>...</td>\n",
       "      <td>...</td>\n",
       "      <td>...</td>\n",
       "    </tr>\n",
       "    <tr>\n",
       "      <th>724</th>\n",
       "      <td>City_1</td>\n",
       "      <td>12/27/13</td>\n",
       "      <td>55</td>\n",
       "      <td>2013-12-27</td>\n",
       "      <td>63.100000</td>\n",
       "      <td>12.949105</td>\n",
       "    </tr>\n",
       "    <tr>\n",
       "      <th>725</th>\n",
       "      <td>City_1</td>\n",
       "      <td>12/28/13</td>\n",
       "      <td>63</td>\n",
       "      <td>2013-12-28</td>\n",
       "      <td>63.166667</td>\n",
       "      <td>12.943067</td>\n",
       "    </tr>\n",
       "    <tr>\n",
       "      <th>726</th>\n",
       "      <td>City_1</td>\n",
       "      <td>12/29/13</td>\n",
       "      <td>55</td>\n",
       "      <td>2013-12-29</td>\n",
       "      <td>62.733333</td>\n",
       "      <td>12.993190</td>\n",
       "    </tr>\n",
       "    <tr>\n",
       "      <th>727</th>\n",
       "      <td>City_1</td>\n",
       "      <td>12/30/13</td>\n",
       "      <td>66</td>\n",
       "      <td>2013-12-30</td>\n",
       "      <td>63.533333</td>\n",
       "      <td>12.397812</td>\n",
       "    </tr>\n",
       "    <tr>\n",
       "      <th>728</th>\n",
       "      <td>City_1</td>\n",
       "      <td>12/31/13</td>\n",
       "      <td>65</td>\n",
       "      <td>2013-12-31</td>\n",
       "      <td>63.133333</td>\n",
       "      <td>12.139231</td>\n",
       "    </tr>\n",
       "  </tbody>\n",
       "</table>\n",
       "<p>365 rows × 6 columns</p>\n",
       "</div>"
      ],
      "text/plain": [
       "       city          ds  bookings      dates  Rolling Average  Rolling StDev\n",
       "364  City_1  01/01/2013        16 2013-01-01              NaN            NaN\n",
       "365  City_1  01/02/2013        20 2013-01-02              NaN            NaN\n",
       "366  City_1  01/03/2013        15 2013-01-03              NaN            NaN\n",
       "367  City_1  01/04/2013        22 2013-01-04              NaN            NaN\n",
       "368  City_1  01/05/2013        16 2013-01-05              NaN            NaN\n",
       "..      ...         ...       ...        ...              ...            ...\n",
       "724  City_1    12/27/13        55 2013-12-27        63.100000      12.949105\n",
       "725  City_1    12/28/13        63 2013-12-28        63.166667      12.943067\n",
       "726  City_1    12/29/13        55 2013-12-29        62.733333      12.993190\n",
       "727  City_1    12/30/13        66 2013-12-30        63.533333      12.397812\n",
       "728  City_1    12/31/13        65 2013-12-31        63.133333      12.139231\n",
       "\n",
       "[365 rows x 6 columns]"
      ]
     },
     "execution_count": 14,
     "metadata": {},
     "output_type": "execute_result"
    }
   ],
   "source": [
    "city_1"
   ]
  },
  {
   "cell_type": "code",
   "execution_count": 15,
   "id": "fa770066",
   "metadata": {},
   "outputs": [
    {
     "data": {
      "text/html": [
       "<div>\n",
       "<style scoped>\n",
       "    .dataframe tbody tr th:only-of-type {\n",
       "        vertical-align: middle;\n",
       "    }\n",
       "\n",
       "    .dataframe tbody tr th {\n",
       "        vertical-align: top;\n",
       "    }\n",
       "\n",
       "    .dataframe thead th {\n",
       "        text-align: right;\n",
       "    }\n",
       "</style>\n",
       "<table border=\"1\" class=\"dataframe\">\n",
       "  <thead>\n",
       "    <tr style=\"text-align: right;\">\n",
       "      <th></th>\n",
       "      <th>city</th>\n",
       "      <th>ds</th>\n",
       "      <th>bookings</th>\n",
       "      <th>dates</th>\n",
       "      <th>Rolling Average</th>\n",
       "      <th>Rolling StDev</th>\n",
       "    </tr>\n",
       "  </thead>\n",
       "  <tbody>\n",
       "    <tr>\n",
       "      <th>0</th>\n",
       "      <td>City_2</td>\n",
       "      <td>01/01/2013</td>\n",
       "      <td>69</td>\n",
       "      <td>2013-01-01</td>\n",
       "      <td>NaN</td>\n",
       "      <td>NaN</td>\n",
       "    </tr>\n",
       "    <tr>\n",
       "      <th>1</th>\n",
       "      <td>City_2</td>\n",
       "      <td>01/02/2013</td>\n",
       "      <td>101</td>\n",
       "      <td>2013-01-02</td>\n",
       "      <td>NaN</td>\n",
       "      <td>NaN</td>\n",
       "    </tr>\n",
       "    <tr>\n",
       "      <th>2</th>\n",
       "      <td>City_2</td>\n",
       "      <td>01/03/2013</td>\n",
       "      <td>134</td>\n",
       "      <td>2013-01-03</td>\n",
       "      <td>NaN</td>\n",
       "      <td>NaN</td>\n",
       "    </tr>\n",
       "    <tr>\n",
       "      <th>3</th>\n",
       "      <td>City_2</td>\n",
       "      <td>01/04/2013</td>\n",
       "      <td>155</td>\n",
       "      <td>2013-01-04</td>\n",
       "      <td>NaN</td>\n",
       "      <td>NaN</td>\n",
       "    </tr>\n",
       "    <tr>\n",
       "      <th>4</th>\n",
       "      <td>City_2</td>\n",
       "      <td>01/05/2013</td>\n",
       "      <td>104</td>\n",
       "      <td>2013-01-05</td>\n",
       "      <td>NaN</td>\n",
       "      <td>NaN</td>\n",
       "    </tr>\n",
       "    <tr>\n",
       "      <th>...</th>\n",
       "      <td>...</td>\n",
       "      <td>...</td>\n",
       "      <td>...</td>\n",
       "      <td>...</td>\n",
       "      <td>...</td>\n",
       "      <td>...</td>\n",
       "    </tr>\n",
       "    <tr>\n",
       "      <th>359</th>\n",
       "      <td>City_2</td>\n",
       "      <td>12/27/13</td>\n",
       "      <td>232</td>\n",
       "      <td>2013-12-27</td>\n",
       "      <td>197.500000</td>\n",
       "      <td>NaN</td>\n",
       "    </tr>\n",
       "    <tr>\n",
       "      <th>360</th>\n",
       "      <td>City_2</td>\n",
       "      <td>12/28/13</td>\n",
       "      <td>182</td>\n",
       "      <td>2013-12-28</td>\n",
       "      <td>198.500000</td>\n",
       "      <td>NaN</td>\n",
       "    </tr>\n",
       "    <tr>\n",
       "      <th>361</th>\n",
       "      <td>City_2</td>\n",
       "      <td>12/29/13</td>\n",
       "      <td>199</td>\n",
       "      <td>2013-12-29</td>\n",
       "      <td>199.966667</td>\n",
       "      <td>NaN</td>\n",
       "    </tr>\n",
       "    <tr>\n",
       "      <th>362</th>\n",
       "      <td>City_2</td>\n",
       "      <td>12/30/13</td>\n",
       "      <td>209</td>\n",
       "      <td>2013-12-30</td>\n",
       "      <td>201.900000</td>\n",
       "      <td>NaN</td>\n",
       "    </tr>\n",
       "    <tr>\n",
       "      <th>363</th>\n",
       "      <td>City_2</td>\n",
       "      <td>12/31/13</td>\n",
       "      <td>221</td>\n",
       "      <td>2013-12-31</td>\n",
       "      <td>203.533333</td>\n",
       "      <td>NaN</td>\n",
       "    </tr>\n",
       "  </tbody>\n",
       "</table>\n",
       "<p>364 rows × 6 columns</p>\n",
       "</div>"
      ],
      "text/plain": [
       "       city          ds  bookings      dates  Rolling Average  Rolling StDev\n",
       "0    City_2  01/01/2013        69 2013-01-01              NaN            NaN\n",
       "1    City_2  01/02/2013       101 2013-01-02              NaN            NaN\n",
       "2    City_2  01/03/2013       134 2013-01-03              NaN            NaN\n",
       "3    City_2  01/04/2013       155 2013-01-04              NaN            NaN\n",
       "4    City_2  01/05/2013       104 2013-01-05              NaN            NaN\n",
       "..      ...         ...       ...        ...              ...            ...\n",
       "359  City_2    12/27/13       232 2013-12-27       197.500000            NaN\n",
       "360  City_2    12/28/13       182 2013-12-28       198.500000            NaN\n",
       "361  City_2    12/29/13       199 2013-12-29       199.966667            NaN\n",
       "362  City_2    12/30/13       209 2013-12-30       201.900000            NaN\n",
       "363  City_2    12/31/13       221 2013-12-31       203.533333            NaN\n",
       "\n",
       "[364 rows x 6 columns]"
      ]
     },
     "execution_count": 15,
     "metadata": {},
     "output_type": "execute_result"
    }
   ],
   "source": [
    "city_2"
   ]
  },
  {
   "cell_type": "markdown",
   "id": "4a2fd4cc",
   "metadata": {},
   "source": [
    "### dropna() with inplace = True - drops all missing rows with missing values"
   ]
  },
  {
   "cell_type": "code",
   "execution_count": 16,
   "id": "47e9ce6e",
   "metadata": {},
   "outputs": [
    {
     "name": "stderr",
     "output_type": "stream",
     "text": [
      "C:\\Users\\lauragallo\\AppData\\Local\\Temp\\ipykernel_1916\\1894879805.py:1: SettingWithCopyWarning: \n",
      "A value is trying to be set on a copy of a slice from a DataFrame\n",
      "\n",
      "See the caveats in the documentation: https://pandas.pydata.org/pandas-docs/stable/user_guide/indexing.html#returning-a-view-versus-a-copy\n",
      "  city_1.dropna(inplace=True)\n"
     ]
    }
   ],
   "source": [
    "city_1.dropna(inplace=True)"
   ]
  },
  {
   "cell_type": "code",
   "execution_count": 17,
   "id": "55ae1ee0",
   "metadata": {},
   "outputs": [
    {
     "name": "stderr",
     "output_type": "stream",
     "text": [
      "C:\\Users\\lauragallo\\AppData\\Local\\Temp\\ipykernel_1916\\3064932368.py:1: SettingWithCopyWarning: \n",
      "A value is trying to be set on a copy of a slice from a DataFrame\n",
      "\n",
      "See the caveats in the documentation: https://pandas.pydata.org/pandas-docs/stable/user_guide/indexing.html#returning-a-view-versus-a-copy\n",
      "  city_2.dropna(inplace=True)\n"
     ]
    }
   ],
   "source": [
    "city_2.dropna(inplace=True)"
   ]
  },
  {
   "cell_type": "markdown",
   "id": "ad5af67a",
   "metadata": {},
   "source": [
    "### Calculating Standard deviation for high"
   ]
  },
  {
   "cell_type": "code",
   "execution_count": 18,
   "id": "e5f8ddad",
   "metadata": {},
   "outputs": [],
   "source": []
  },
  {
   "cell_type": "code",
   "execution_count": 22,
   "id": "b70739b8",
   "metadata": {},
   "outputs": [
    {
     "name": "stderr",
     "output_type": "stream",
     "text": [
      "C:\\Users\\lauragallo\\AppData\\Local\\Temp\\ipykernel_1916\\2736207748.py:1: SettingWithCopyWarning: \n",
      "A value is trying to be set on a copy of a slice from a DataFrame.\n",
      "Try using .loc[row_indexer,col_indexer] = value instead\n",
      "\n",
      "See the caveats in the documentation: https://pandas.pydata.org/pandas-docs/stable/user_guide/indexing.html#returning-a-view-versus-a-copy\n",
      "  city_1['TwosdAbove'] = city_1['Rolling Average'] + (2*city_1['Rolling StDev'])\n"
     ]
    }
   ],
   "source": [
    "city_1['TwosdAbove'] = city_1['Rolling Average'] + (2*city_1['Rolling StDev'])"
   ]
  },
  {
   "cell_type": "code",
   "execution_count": null,
   "id": "fbd88300",
   "metadata": {},
   "outputs": [],
   "source": []
  }
 ],
 "metadata": {
  "kernelspec": {
   "display_name": "Python 3 (ipykernel)",
   "language": "python",
   "name": "python3"
  },
  "language_info": {
   "codemirror_mode": {
    "name": "ipython",
    "version": 3
   },
   "file_extension": ".py",
   "mimetype": "text/x-python",
   "name": "python",
   "nbconvert_exporter": "python",
   "pygments_lexer": "ipython3",
   "version": "3.9.13"
  }
 },
 "nbformat": 4,
 "nbformat_minor": 5
}
